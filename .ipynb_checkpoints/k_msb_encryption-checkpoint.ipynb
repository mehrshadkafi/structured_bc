{
 "cells": [
  {
   "cell_type": "code",
   "execution_count": 109,
   "id": "0ff5967d",
   "metadata": {},
   "outputs": [
    {
     "ename": "ModuleNotFoundError",
     "evalue": "No module named 'cv2'",
     "output_type": "error",
     "traceback": [
      "\u001b[0;31m---------------------------------------------------------------------------\u001b[0m",
      "\u001b[0;31mModuleNotFoundError\u001b[0m                       Traceback (most recent call last)",
      "Input \u001b[0;32mIn [109]\u001b[0m, in \u001b[0;36m<cell line: 1>\u001b[0;34m()\u001b[0m\n\u001b[0;32m----> 1\u001b[0m \u001b[38;5;28;01mimport\u001b[39;00m \u001b[38;5;21;01mcv2\u001b[39;00m\n\u001b[1;32m      2\u001b[0m \u001b[38;5;28;01mimport\u001b[39;00m \u001b[38;5;21;01mnumpy\u001b[39;00m \u001b[38;5;28;01mas\u001b[39;00m \u001b[38;5;21;01mnp\u001b[39;00m\n\u001b[1;32m      3\u001b[0m b \u001b[38;5;241m=\u001b[39m \u001b[38;5;241m8\u001b[39m\n",
      "\u001b[0;31mModuleNotFoundError\u001b[0m: No module named 'cv2'"
     ]
    }
   ],
   "source": [
    "import cv2\n",
    "import numpy as np\n",
    "b = 8\n",
    "k = 2"
   ]
  },
  {
   "cell_type": "code",
   "execution_count": 58,
   "id": "b8daebf1",
   "metadata": {},
   "outputs": [],
   "source": [
    "def msbs_matrix_creator(k=2):\n",
    "    '''Rows are for remainders from 0 to 2^k-1, and\n",
    "    columns are for ranges from U0 to U2^k-1'''\n",
    "    remainders = np.array(range(2**k))\n",
    "\n",
    "    msbs_matrix = np.zeros([2**k, 2**k])\n",
    "    rows = remainders\n",
    "    for i in remainders:\n",
    "        msbs_matrix[i] = rows\n",
    "        rows = (rows + 1)% (2**k)\n",
    "    return msbs_matrix"
   ]
  },
  {
   "cell_type": "code",
   "execution_count": 61,
   "id": "fda3890b",
   "metadata": {},
   "outputs": [],
   "source": [
    "msbs_matrix = msbs_matrix_creator(2)"
   ]
  },
  {
   "cell_type": "code",
   "execution_count": 105,
   "id": "a03b0593",
   "metadata": {},
   "outputs": [],
   "source": [
    "def fellows_finder(value):\n",
    "    '''fellows[0] = fellow00, fellows[1]=fellow01, etc.'''\n",
    "    row_index = value % 2**k\n",
    "    column_index = int(value/(2**(b-k)))\n",
    "\n",
    "    fellows = []\n",
    "    for i in range(0, 2**k):\n",
    "        index = (-row_index + i) % 2**k\n",
    "        fellow = value + (index - column_index) * 2**(b-k)\n",
    "        fellows.append(fellow)\n",
    "    return fellows"
   ]
  },
  {
   "cell_type": "code",
   "execution_count": null,
   "id": "033c6b86",
   "metadata": {},
   "outputs": [],
   "source": []
  },
  {
   "cell_type": "code",
   "execution_count": 108,
   "id": "58ff38c6",
   "metadata": {},
   "outputs": [
    {
     "ename": "NameError",
     "evalue": "name 'cv2' is not defined",
     "output_type": "error",
     "traceback": [
      "\u001b[0;31m---------------------------------------------------------------------------\u001b[0m",
      "\u001b[0;31mNameError\u001b[0m                                 Traceback (most recent call last)",
      "Input \u001b[0;32mIn [108]\u001b[0m, in \u001b[0;36m<cell line: 3>\u001b[0;34m()\u001b[0m\n\u001b[1;32m      1\u001b[0m image_name \u001b[38;5;241m=\u001b[39m \u001b[38;5;124m'\u001b[39m\u001b[38;5;124mlena\u001b[39m\u001b[38;5;124m'\u001b[39m\n\u001b[1;32m      2\u001b[0m img_file \u001b[38;5;241m=\u001b[39m image_name \u001b[38;5;241m+\u001b[39m\u001b[38;5;124m'\u001b[39m\u001b[38;5;124m.tif\u001b[39m\u001b[38;5;124m'\u001b[39m\n\u001b[0;32m----> 3\u001b[0m intensities \u001b[38;5;241m=\u001b[39m \u001b[43mcv2\u001b[49m\u001b[38;5;241m.\u001b[39mimread(img_file, cv2\u001b[38;5;241m.\u001b[39mIMREAD_GRAYSCALE)\n\u001b[1;32m      4\u001b[0m imf \u001b[38;5;241m=\u001b[39m np\u001b[38;5;241m.\u001b[39mfloat32(intensities)\n\u001b[1;32m      6\u001b[0m eve_dic \u001b[38;5;241m=\u001b[39m {}\n",
      "\u001b[0;31mNameError\u001b[0m: name 'cv2' is not defined"
     ]
    }
   ],
   "source": [
    "image_name = 'lena'\n",
    "img_file = image_name +'.tif'\n",
    "intensities = cv2.imread(img_file, cv2.IMREAD_GRAYSCALE)\n",
    "imf = np.float32(intensities)\n",
    "\n",
    "eve_dic = {}\n",
    "for i in range(0, 2**k):\n",
    "    eve_dic[i] = np.zeros([np.shape(imf)[0],np.shape(imf)[1]])\n",
    "\n",
    "for i in range(np.shape(imf)[0]):\n",
    "    for j in range(np.shape(imf)[1]):\n",
    "        fellows = fellows_finder(imf[i,j])\n",
    "        \n",
    "        for k in range(0, 2**k):\n",
    "            eve_dic[k][i,j] = fellows[k]\n",
    "        \n"
   ]
  },
  {
   "cell_type": "code",
   "execution_count": 27,
   "id": "2d227cf8",
   "metadata": {},
   "outputs": [
    {
     "data": {
      "text/plain": [
       "array([0, 1, 2, 3])"
      ]
     },
     "execution_count": 27,
     "metadata": {},
     "output_type": "execute_result"
    }
   ],
   "source": [
    "remainders"
   ]
  },
  {
   "cell_type": "code",
   "execution_count": null,
   "id": "e480f9ae",
   "metadata": {},
   "outputs": [],
   "source": []
  }
 ],
 "metadata": {
  "kernelspec": {
   "display_name": "Python 3 (ipykernel)",
   "language": "python",
   "name": "python3"
  },
  "language_info": {
   "codemirror_mode": {
    "name": "ipython",
    "version": 3
   },
   "file_extension": ".py",
   "mimetype": "text/x-python",
   "name": "python",
   "nbconvert_exporter": "python",
   "pygments_lexer": "ipython3",
   "version": "3.9.12"
  }
 },
 "nbformat": 4,
 "nbformat_minor": 5
}
