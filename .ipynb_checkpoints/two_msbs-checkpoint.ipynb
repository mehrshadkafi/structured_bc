{
 "cells": [
  {
   "cell_type": "code",
   "execution_count": 3,
   "metadata": {},
   "outputs": [],
   "source": [
    "b = 8\n",
    "\n",
    "U00 = range(0, 2**(b-2))\n",
    "U01 = range(2**(b-2), 2**(b-1))\n",
    "U10 = range(2**(b-1), 3 * 2**(b-2))\n",
    "U11 = range(3 * 2**(b-2), 2**b)\n",
    "\n",
    "edge1 = 2**(b-2)\n",
    "edge2 = 2**(b-1)\n",
    "edge3 = 3 * 2**(b-2)"
   ]
  },
  {
   "cell_type": "code",
   "execution_count": 2,
   "metadata": {},
   "outputs": [
    {
     "data": {
      "text/plain": [
       "1"
      ]
     },
     "execution_count": 2,
     "metadata": {},
     "output_type": "execute_result"
    }
   ],
   "source": [
    "value = 5\n",
    "category = value % 4\n",
    "\n",
    "if category == 0:\n",
    "    if value in U00:\n",
    "        f00 = value\n",
    "        f01 = value + 64\n",
    "        f10 = value + 128\n",
    "        f11 = value + 192\n",
    "        \n",
    "    if value in U01:\n",
    "        f00 = value - 64\n",
    "        f01 = value \n",
    "        f10 = value + 64\n",
    "        f11 = value + 128\n",
    "        \n",
    "    if value in U10:\n",
    "        f00 = value - 128\n",
    "        f01 = value - 64\n",
    "        f10 = value \n",
    "        f11 = value + 64\n",
    "        \n",
    "    if value in U11:\n",
    "        f00 = value - 192\n",
    "        f01 = value - 128\n",
    "        f10 = value - 64\n",
    "        f11 = value\n",
    "        \n",
    "if category == 1:\n",
    "    if value in U00:\n",
    "        f00 = value + edge2\n",
    "        f01 = value + edge3\n",
    "        f10 = value\n",
    "        f11 = value + edge1\n",
    "\n",
    "    if value in U01:\n",
    "        f00 = value + edge1\n",
    "        f01 = value + edge2\n",
    "        f10 = value - edge1\n",
    "        f11 = value\n",
    "\n",
    "    if value in U10:\n",
    "        f00 = value\n",
    "        f01 = value + edge1\n",
    "        f10 = value - edge2\n",
    "        f11 = value - edge1\n",
    "\n",
    "    if value in U11:\n",
    "        f00 = value - edge1\n",
    "        f01 = value\n",
    "        f10 = value - edge3\n",
    "        f11 = value - edge2\n",
    "              \n",
    "if category == 2:\n",
    "    if value in U00:\n",
    "        f00 = value + edge2\n",
    "        f01 = value + edge3\n",
    "        f10 = value\n",
    "        f11 = value + edge1\n",
    "\n",
    "    if value in U01:\n",
    "        f00 = value + edge1\n",
    "        f01 = value + edge2\n",
    "        f10 = value - edge1\n",
    "        f11 = value\n",
    "\n",
    "    if value in U10:\n",
    "        f00 = value\n",
    "        f01 = value + edge1\n",
    "        f10 = value - edge2\n",
    "        f11 = value - edge1\n",
    "\n",
    "    if value in U11:\n",
    "        f00 = value - edge1\n",
    "        f01 = value\n",
    "        f10 = value - edge3\n",
    "        f11 = value - edge2      \n",
    "            \n",
    "        "
   ]
  },
  {
   "cell_type": "code",
   "execution_count": null,
   "metadata": {},
   "outputs": [],
   "source": []
  }
 ],
 "metadata": {
  "kernelspec": {
   "display_name": "Python 3",
   "language": "python",
   "name": "python3"
  },
  "language_info": {
   "codemirror_mode": {
    "name": "ipython",
    "version": 3
   },
   "file_extension": ".py",
   "mimetype": "text/x-python",
   "name": "python",
   "nbconvert_exporter": "python",
   "pygments_lexer": "ipython3",
   "version": "3.8.5"
  }
 },
 "nbformat": 4,
 "nbformat_minor": 4
}
