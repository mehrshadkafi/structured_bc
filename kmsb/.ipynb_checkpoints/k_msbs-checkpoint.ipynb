{
 "cells": [
  {
   "cell_type": "code",
   "execution_count": 5,
   "id": "0ff5967d",
   "metadata": {},
   "outputs": [],
   "source": [
    "import cv2\n",
    "import numpy as np\n",
    "from correlation_calculator import correlations\n",
    "b = 8\n",
    "k = 2"
   ]
  },
  {
   "cell_type": "code",
   "execution_count": 2,
   "id": "b8daebf1",
   "metadata": {},
   "outputs": [],
   "source": [
    "def msbs_matrix_creator(k=2):\n",
    "    '''Rows are for remainders from 0 to 2^k-1, and\n",
    "    columns are for ranges from U0 to U2^k-1'''\n",
    "    remainders = np.array(range(2**k))\n",
    "\n",
    "    msbs_matrix = np.zeros([2**k, 2**k])\n",
    "    rows = remainders\n",
    "    for i in remainders:\n",
    "        msbs_matrix[i] = rows\n",
    "        rows = (rows + 1)% (2**k)\n",
    "    return msbs_matrix"
   ]
  },
  {
   "cell_type": "code",
   "execution_count": 3,
   "id": "a03b0593",
   "metadata": {},
   "outputs": [],
   "source": [
    "def fellows_finder(value):\n",
    "    '''fellows[0] = fellow00, fellows[1]=fellow01, etc.'''\n",
    "    row_index = value % 2**k\n",
    "    column_index = int(value/(2**(b-k)))\n",
    "\n",
    "    fellows = []\n",
    "    for i in range(0, 2**k):\n",
    "        index = (-row_index + i) % 2**k\n",
    "        fellow = value + (index - column_index) * 2**(b-k)\n",
    "        fellows.append(fellow)\n",
    "    return fellows"
   ]
  },
  {
   "cell_type": "code",
   "execution_count": 4,
   "id": "58ff38c6",
   "metadata": {},
   "outputs": [],
   "source": [
    "def reconstruction_kmsb (image_name):\n",
    "    '''Images_name should be like: 'lena', 'cam', 'man', 'liv', 'gol', or 'zelda' \n",
    "    in tif format.'''\n",
    "    img_file = image_name +'.tif'\n",
    "    intensities = cv2.imread(img_file, cv2.IMREAD_GRAYSCALE)\n",
    "    imf = np.float32(intensities)\n",
    "\n",
    "    eve_dic = {}\n",
    "    for i in range(0, 2**k):\n",
    "        eve_dic[i] = np.zeros([np.shape(imf)[0],np.shape(imf)[1]])\n",
    "\n",
    "    for i in range(np.shape(imf)[0]):\n",
    "        for j in range(np.shape(imf)[1]):\n",
    "            fellows = fellows_finder(imf[i,j])\n",
    "\n",
    "            for l in range(0, 2**k):\n",
    "                eve_dic[l][i,j] = fellows[l]\n",
    "\n",
    "    for i in range(0, 2**k):\n",
    "        eve_msb_uint8 = eve_dic[i].astype(np.uint8)\n",
    "        filename = image_name+'_msb'+str(i)+'.png'\n",
    "        cv2.imwrite(filename, eve_msb_uint8)"
   ]
  },
  {
   "cell_type": "code",
   "execution_count": 25,
   "id": "c7b1362c",
   "metadata": {},
   "outputs": [],
   "source": [
    "# for image_name in ['cam', 'man', 'liv', 'gol', 'zelda']:\n",
    "for image_name in ['lena']:\n",
    "    reconstruction_kmsb(image_name)"
   ]
  },
  {
   "cell_type": "code",
   "execution_count": 10,
   "id": "9ecf14b4",
   "metadata": {},
   "outputs": [
    {
     "data": {
      "text/plain": [
       "(0.03962762958460332, 0.04987190363082815, 0.03453258631831391)"
      ]
     },
     "execution_count": 10,
     "metadata": {},
     "output_type": "execute_result"
    }
   ],
   "source": [
    "img_file1 = 'lena_msb11.png'\n",
    "intensities1 = cv2.imread(img_file1, cv2.IMREAD_GRAYSCALE)\n",
    "correlations(intensities1)"
   ]
  },
  {
   "cell_type": "code",
   "execution_count": 12,
   "id": "41e3db2e",
   "metadata": {},
   "outputs": [
    {
     "data": {
      "text/plain": [
       "(0.037544876728512595, 0.05091755039424945, 0.03510628870894456)"
      ]
     },
     "execution_count": 12,
     "metadata": {},
     "output_type": "execute_result"
    }
   ],
   "source": [
    "img_file2 = 'lena_msb2.png'\n",
    "intensities2 = cv2.imread(img_file2, cv2.IMREAD_GRAYSCALE)\n",
    "correlations(intensities2)"
   ]
  },
  {
   "cell_type": "code",
   "execution_count": 35,
   "id": "8a7c40f2",
   "metadata": {},
   "outputs": [
    {
     "name": "stdout",
     "output_type": "stream",
     "text": [
      "[0, 64, 128, 192]\n",
      "[193, 1, 65, 129]\n",
      "[130, 194, 2, 66]\n",
      "[67, 131, 195, 3]\n"
     ]
    }
   ],
   "source": [
    "for i in range(4):\n",
    "    print(fellows_finder(64+i))"
   ]
  },
  {
   "cell_type": "code",
   "execution_count": null,
   "id": "94918d7e",
   "metadata": {},
   "outputs": [],
   "source": []
  }
 ],
 "metadata": {
  "kernelspec": {
   "display_name": "Python 3 (ipykernel)",
   "language": "python",
   "name": "python3"
  },
  "language_info": {
   "codemirror_mode": {
    "name": "ipython",
    "version": 3
   },
   "file_extension": ".py",
   "mimetype": "text/x-python",
   "name": "python",
   "nbconvert_exporter": "python",
   "pygments_lexer": "ipython3",
   "version": "3.9.12"
  }
 },
 "nbformat": 4,
 "nbformat_minor": 5
}
